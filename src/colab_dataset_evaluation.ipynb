{
  "cells": [
    {
      "cell_type": "markdown",
      "metadata": {},
      "source": [
        "# AI Resume Ranker - Dataset Evaluation for Google Colab\n",
        "\n",
        "This notebook evaluates the performance of AI Resume Ranker models using a dataset of CVs and job descriptions.\n",
        "\n",
        "## Features:\n",
        "- Parse PDF/DOC files into JSON format\n",
        "- Extract entities using NER models\n",
        "- Calculate semantic similarity\n",
        "- Generate performance metrics (Precision, Recall, F1-Score, NDCG)\n",
        "- Create visualizations\n",
        "- Export results\n"
      ]
    },
    {
      "cell_type": "code",
      "execution_count": null,
      "metadata": {},
      "outputs": [],
      "source": [
        "# Install required packages\n",
        "%pip install spacy sentence-transformers PyPDF2 python-docx scikit-learn pandas matplotlib seaborn openpyxl\n",
        "!python -m spacy download en_core_web_sm\n"
      ]
    }
  ],
  "metadata": {
    "language_info": {
      "name": "python"
    }
  },
  "nbformat": 4,
  "nbformat_minor": 2
}
